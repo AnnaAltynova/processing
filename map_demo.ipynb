{
 "cells": [
  {
   "cell_type": "code",
   "execution_count": null,
   "id": "b15cd219-9866-4f00-9b09-a4549c8cd88f",
   "metadata": {},
   "outputs": [],
   "source": [
    "%matplotlib widget"
   ]
  },
  {
   "cell_type": "code",
   "execution_count": null,
   "id": "92e0d296-3c50-4d65-ac6c-37028309cabe",
   "metadata": {},
   "outputs": [],
   "source": [
    "import sys\n",
    "\n",
    "import numpy as np\n",
    "\n",
    "sys.path.insert(0, \"..\")\n",
    "from seismicpro import Survey, SeismicDataset, VelocityCube\n",
    "from seismicpro.src.metrics import PipelineMetric, pass_coords, pass_batch, pass_calc_args\n",
    "from seismicpro.batchflow import Pipeline, V"
   ]
  },
  {
   "cell_type": "markdown",
   "id": "bbc595fe-766c-4446-b03a-1127a292404d",
   "metadata": {},
   "source": [
    "## Вводная что вообще происходит"
   ]
  },
  {
   "cell_type": "markdown",
   "id": "8e3bc260-d7af-4f60-b6f3-2fecbc0bf285",
   "metadata": {},
   "source": [
    "Я открыл пулл реквест с интерактивными картами, хочу чтобы вы потестировали новые фичи.\n",
    "\n",
    "Порядок действий:\n",
    "1. Прочитать описание пулл реквеста на гитхабе чтобы понять, что вообще поменялось\n",
    "2. Пройтись по этому ноутбуку и потыкать в карты\n",
    "3. Понять, удобен ли интерфейс и, если нет, предложить как его поменять\n",
    "4. Начать смотреть в код. Оптимальная последовательность, на мой взгляд, такая:\n",
    "    1. Батч + директория metrics/\n",
    "    2. stacking_velocity\n",
    "    3. interactive_plot_utils\n",
    "    4. Все остальное\n",
    "5. Более вдумчиво пройтись по этому ноутбуку, дергая разные параметры\n",
    "\n",
    "Документации к коду пока нет, а если и есть - не читайте."
   ]
  },
  {
   "cell_type": "markdown",
   "id": "c23fe234-d9f5-4226-94c3-bf28ea0f57bc",
   "metadata": {},
   "source": [
    "## Начнем с карт метрик по скоростному кубу"
   ]
  },
  {
   "cell_type": "markdown",
   "id": "53bfc191-5c07-4a26-8fea-cb16cec4f33c",
   "metadata": {},
   "source": [
    "Подсуньте сюда куб из чатика:"
   ]
  },
  {
   "cell_type": "code",
   "execution_count": null,
   "id": "a9f9b017-b648-4432-bf4b-fec540ef5635",
   "metadata": {},
   "outputs": [],
   "source": [
    "vc = VelocityCube(\"./broken_cube.txt\")"
   ]
  },
  {
   "cell_type": "code",
   "execution_count": null,
   "id": "70e01f0e-590a-4a97-b40e-989fc312ced0",
   "metadata": {},
   "outputs": [],
   "source": [
    "%%time\n",
    "is_dec, max_acc, max_std, relative_var = vc.qc(10, times=np.arange(0, 1500, 2), bar=True)"
   ]
  },
  {
   "cell_type": "markdown",
   "id": "892b5d71-7141-4aaa-909a-9f8d84117933",
   "metadata": {},
   "source": [
    "Скоростной куб умеет в QC - в результате по дефолту мы получим 4 карты метрик. Поcмотрим, что это за зверь"
   ]
  },
  {
   "cell_type": "code",
   "execution_count": null,
   "id": "ecef4119-0c53-4ff7-b4f6-2e7220347433",
   "metadata": {},
   "outputs": [],
   "source": [
    "type(is_dec)"
   ]
  },
  {
   "cell_type": "markdown",
   "id": "fd0d93ca-0ee1-4a9d-acb8-7977d226a7bc",
   "metadata": {},
   "source": [
    "Основной атрибут - metric_data - содержит все значения метрики и соответствующие ей координаты. Хранение такого атрибута позволяет переагрегировать карту налету"
   ]
  },
  {
   "cell_type": "code",
   "execution_count": null,
   "id": "e27bc3dd-8511-498c-a402-eabfb419eda9",
   "metadata": {},
   "outputs": [],
   "source": [
    "is_dec.metric_data"
   ]
  },
  {
   "cell_type": "markdown",
   "id": "b127ea80-5383-4ce4-9e5f-ada62199bc35",
   "metadata": {},
   "source": [
    "Карта умеет себя рисовать:"
   ]
  },
  {
   "cell_type": "code",
   "execution_count": null,
   "id": "29067214-db5e-437e-9490-e68688151773",
   "metadata": {},
   "outputs": [],
   "source": [
    "is_dec.plot(figsize=(5, 5))"
   ]
  },
  {
   "cell_type": "markdown",
   "id": "b111ea12-1a54-4dcb-b838-83aa0d011ac0",
   "metadata": {},
   "source": [
    "Более того, она умеет делать это интерактивно:"
   ]
  },
  {
   "cell_type": "code",
   "execution_count": null,
   "id": "b5698125-19a0-4ff1-bf4f-bf16c4f0d9db",
   "metadata": {},
   "outputs": [],
   "source": [
    "is_dec.plot(interactive=True)"
   ]
  },
  {
   "cell_type": "markdown",
   "id": "8e0f36f8-fc2b-4f0b-89d2-10e8d817bd13",
   "metadata": {},
   "source": [
    "То, что будет рисоваться справа по умолчанию определяет класс метрики, которая была посчитана. Хранится она тут:"
   ]
  },
  {
   "cell_type": "code",
   "execution_count": null,
   "id": "34337594-17b6-4673-b8c2-4a971a638374",
   "metadata": {},
   "outputs": [],
   "source": [
    "is_dec.metric"
   ]
  },
  {
   "cell_type": "markdown",
   "id": "49481170-51f3-4e78-8f7c-e0c18a2bb5a2",
   "metadata": {},
   "source": [
    "Важно различать класс метрики и инстанс метрики:\n",
    "* класс описывает метрику как функцию: он хранит статикметод calc и некоторую мету в своих классатрибутах (например, min_value и max_value)\n",
    "* инстанс метрики помнит контекст, в котором метрика считаталсь. Например, инстанс выше помнит, в каком окне и по каким скоростям считался QC куба. Именно это позволяет ей нарисовать что-то осмысленное справа по клику"
   ]
  },
  {
   "cell_type": "markdown",
   "id": "e8d98340-3e45-4f58-98f3-156ef73571fa",
   "metadata": {},
   "source": [
    "Карта умеет себя агрегировать и разагрегировать обратно в любой момент по вызову метода `aggregate`:"
   ]
  },
  {
   "cell_type": "code",
   "execution_count": null,
   "id": "f68db7fa-09ac-4c76-8153-ac8e78062f60",
   "metadata": {},
   "outputs": [],
   "source": [
    "agg_is_dec = is_dec.aggregate(bin_size=10)\n",
    "agg_is_dec.plot(interactive=True)"
   ]
  },
  {
   "cell_type": "markdown",
   "id": "bcd3f0c2-792e-43b7-886d-881dff1ccb4f",
   "metadata": {},
   "source": [
    "Если карта бинаризована - мы можем итерироваться по содержимому бина в правом графике."
   ]
  },
  {
   "cell_type": "markdown",
   "id": "55cde4d7-a3bb-44b2-bac9-ba66b350b698",
   "metadata": {},
   "source": [
    "Разагрегация карты в исходное состояние:"
   ]
  },
  {
   "cell_type": "code",
   "execution_count": null,
   "id": "1c502f52-930a-4bfb-9c53-2635b9c63c89",
   "metadata": {},
   "outputs": [],
   "source": [
    "agg_is_dec.aggregate().plot(interactive=True)"
   ]
  },
  {
   "cell_type": "markdown",
   "id": "8fb93eb3-ffa0-471e-9755-a1b3bf13c665",
   "metadata": {},
   "source": [
    "Любой процесс агрегации нынче работает на несколько порядков быстрее, чем раньше, что позволяет делать его по запросу, а не единожны при создании карты."
   ]
  },
  {
   "cell_type": "markdown",
   "id": "d27265ac-0dce-4a22-9b33-7103c7137d67",
   "metadata": {},
   "source": [
    "От карт можно отнаследоваться. Чаще всего это нужно для того, чтобы доопределить рисовалку и дополнительно обработать какие-либо события. Например, оконные метрики QC куба скоростей позволяют подсветить область, по которой они считались:"
   ]
  },
  {
   "cell_type": "code",
   "execution_count": null,
   "id": "fec9875e-25ac-4001-91f7-8d8407cf390e",
   "metadata": {},
   "outputs": [],
   "source": [
    "relative_var.plot(interactive=True, plot_window=True)"
   ]
  },
  {
   "cell_type": "code",
   "execution_count": null,
   "id": "fbb9d1f7-d472-4db4-a23e-4092d7a2fe8c",
   "metadata": {},
   "outputs": [],
   "source": [
    "max_std.plot(interactive=True, plot_window=False)"
   ]
  },
  {
   "cell_type": "markdown",
   "id": "0d5d9701-a682-4761-b005-ce1e373a4a5c",
   "metadata": {},
   "source": [
    "## Карты и пайплайны"
   ]
  },
  {
   "cell_type": "markdown",
   "id": "338a3347-ed6f-4555-ac7b-4444b55252df",
   "metadata": {},
   "source": [
    "Подсуньте сюда любой сегвай:"
   ]
  },
  {
   "cell_type": "code",
   "execution_count": null,
   "id": "1b7aebdb-33a7-4201-b501-77c85ab159d9",
   "metadata": {},
   "outputs": [],
   "source": [
    "%%time\n",
    "header_index = \"FieldRecord\"\n",
    "header_cols = [\"INLINE_3D\", \"CROSSLINE_3D\", \"offset\", \"SourceX\", \"SourceY\", \"GroupX\", \"GroupY\", \"CDP_X\", \"CDP_Y\"]\n",
    "\n",
    "sur = Survey(\"./CDP_4_VA.sgy\", header_index=header_index, header_cols=header_cols, name=\"raw\")\n",
    "ds = SeismicDataset(surveys=sur)"
   ]
  },
  {
   "cell_type": "markdown",
   "id": "a86b81b3-eb58-4909-92ee-cdfc55defd98",
   "metadata": {},
   "source": [
    "Самый частый кейс - рассчитывать метрику побатчево, а затем сагрегировать все в карту. Старый путь через рассчет метрик как-то руками и последующий вызов `gather_metrics` остался, но он не позволит удобным образом организовать интерактивность карты. Новый путь выглядит следующим образом:\n",
    "1. Отнаследоваться от `PipelineMetric` и переопределить:\n",
    "    * `calc` - метод рассчет самой метрики\n",
    "    * Любое количество методов отрисовки по клику, принимающих на вход `ax` + какую-то инфу о клике (см. ниже)\n",
    "    * Добавить названия всех плоттеорв с предыдущего шага в классатрибьют-туплю `views` \n",
    "2. В пайплайне вызвать новый метод `calculate_metric`, передав в него саму метрику и все аргументы для ее расчета\n",
    "3. Наслаждаться\n",
    "\n",
    "Пример рассчета стандартного отклонения по газерам, умноженного на константу:"
   ]
  },
  {
   "cell_type": "code",
   "execution_count": null,
   "id": "7e218065-b78a-4bb9-866a-ca518462516e",
   "metadata": {},
   "outputs": [],
   "source": [
    "class MyMetric(PipelineMetric):\n",
    "    name = \"std\"\n",
    "    min_value = 0\n",
    "    max_value = None\n",
    "    is_lower_better = None\n",
    "    views = \"plot\"\n",
    "\n",
    "    @staticmethod\n",
    "    def calc(gather, mul):\n",
    "        return mul * gather.data.std()\n",
    "\n",
    "    @pass_calc_args\n",
    "    def plot(gather, mul, ax, **kwargs):\n",
    "        gather.plot(ax=ax, **kwargs)"
   ]
  },
  {
   "cell_type": "code",
   "execution_count": null,
   "id": "aa6e3538-1ce6-4866-82af-c03da5ab9060",
   "metadata": {},
   "outputs": [],
   "source": [
    "template_ppl = (Pipeline()\n",
    "    .load(src=\"raw\")\n",
    "    .sort(src=\"raw\", dst=\"sorted\", by=\"offset\")\n",
    "    .calculate_metric(MyMetric, gather=\"sorted\", mul=100, save_to=V(\"accumulator\", mode=\"a\"))\n",
    ")\n",
    "ppl = (ds >> template_ppl)"
   ]
  },
  {
   "cell_type": "code",
   "execution_count": null,
   "id": "8a43bc9c-4be1-4684-9ad4-46baf1b958e5",
   "metadata": {},
   "outputs": [],
   "source": [
    "%%time\n",
    "ppl.next_batch(500)"
   ]
  },
  {
   "cell_type": "code",
   "execution_count": null,
   "id": "63a93ea3-f9b2-4c7c-8c40-e3cf699a17e7",
   "metadata": {},
   "outputs": [],
   "source": [
    "mmap = ppl.v(\"accumulator\").construct_map()"
   ]
  },
  {
   "cell_type": "code",
   "execution_count": null,
   "id": "410a996d-c015-48ee-9bf6-4189b09dfd99",
   "metadata": {},
   "outputs": [],
   "source": [
    "mmap.plot(interactive=True)"
   ]
  },
  {
   "cell_type": "markdown",
   "id": "bf5fb50e-1708-458e-960c-7788c23ca7bd",
   "metadata": {},
   "source": [
    "В чем профит? Алгоритм расчета метрики, отрисовки по клику и всякая мета хранятся в одном месте. Для того чтобы получить кликалку от вас не требуется почти ничего, все заведется из коробки."
   ]
  },
  {
   "cell_type": "markdown",
   "id": "c6c65bbb-61a7-4b86-abc4-803d8c7f1d6a",
   "metadata": {},
   "source": [
    "В классе выше появился декоратор `pass_calc_args` - он указывает на то, что методу отрисовки помимо `ax` прилетят еще и все арги, использованные для расчета метрики. Есть и другие опции со вполне говорящими названиями:"
   ]
  },
  {
   "cell_type": "code",
   "execution_count": null,
   "id": "a5a47e3e-87a2-4f0f-83fb-8f69f03ea09e",
   "metadata": {},
   "outputs": [],
   "source": [
    "class MyMultiViewMetric(PipelineMetric):\n",
    "    name = \"std\"\n",
    "    min_value = 0\n",
    "    max_value = None\n",
    "    is_lower_better = None\n",
    "    views = (\"plot\", \"plot_sorted\", \"plot_batch\", \"print_coords\")\n",
    "\n",
    "    @staticmethod\n",
    "    def calc(gather, mul):\n",
    "        return mul * gather.data.std()\n",
    "\n",
    "    @pass_calc_args\n",
    "    def plot(gather, mul, ax, **kwargs):\n",
    "        gather.plot(ax=ax, **kwargs)\n",
    "\n",
    "    @pass_calc_args\n",
    "    def plot_sorted(gather, mul, ax, **kwargs):\n",
    "        gather.sort(by=\"offset\").plot(ax=ax, **kwargs)\n",
    "\n",
    "    @pass_batch\n",
    "    def plot_batch(batch, ax, **kwargs):\n",
    "        batch.raw[0].plot(ax=ax, title=\"from batch\")\n",
    "\n",
    "    @pass_coords\n",
    "    def print_coords(coords, ax, **kwargs):\n",
    "        ax.set_title(coords)"
   ]
  },
  {
   "cell_type": "code",
   "execution_count": null,
   "id": "283f753d-3ed1-4584-a3f3-b13d86075176",
   "metadata": {},
   "outputs": [],
   "source": [
    "template_ppl = (Pipeline()\n",
    "    .load(src=\"raw\")\n",
    "    .sort(src=\"raw\", dst=\"sorted\", by=\"offset\")\n",
    "    .calculate_metric(MyMultiViewMetric, gather=\"sorted\", mul=100, save_to=V(\"accumulator\", mode=\"a\"))\n",
    ")\n",
    "ppl = (ds >> template_ppl)\n",
    "ppl.next_batch(500)\n",
    "ppl.v(\"accumulator\").construct_map().plot(interactive=True)"
   ]
  },
  {
   "cell_type": "markdown",
   "id": "f394e277-bce2-417b-9287-15c0cda52ebc",
   "metadata": {},
   "source": [
    "В правом верхнем углу правого плота появилась кнопка, переключающая вид."
   ]
  },
  {
   "cell_type": "markdown",
   "id": "7df9fd13-502f-4781-961f-1262e4a3e90e",
   "metadata": {},
   "source": [
    "Режим \"Сашка заебал со своими наследованиями, хочу тупо лямбды пихать и чтоб и интерактивно, и заебись, и еще и минеты строчились впридачу\" тоже реализован:"
   ]
  },
  {
   "cell_type": "code",
   "execution_count": null,
   "id": "1521d97f-3baf-425a-838c-e4a7f2d5d971",
   "metadata": {},
   "outputs": [],
   "source": [
    "template_ppl = (Pipeline()\n",
    "    .load(src=\"raw\")\n",
    "    .sort(src=\"raw\", dst=\"sorted\", by=\"offset\")\n",
    "    .calculate_metric(lambda gather, mul: mul * gather.data.std(), \"raw\", 100, metric_name=\"std\", save_to=V(\"accumulator\", mode=\"a\"))\n",
    ")\n",
    "ppl = (ds >> template_ppl)"
   ]
  },
  {
   "cell_type": "code",
   "execution_count": null,
   "id": "e909a63b-eda0-4f4c-bb4e-95a314123b65",
   "metadata": {},
   "outputs": [],
   "source": [
    "%%time\n",
    "ppl.next_batch(500)"
   ]
  },
  {
   "cell_type": "code",
   "execution_count": null,
   "id": "86823881-46b8-4619-b2ae-892fc3987c90",
   "metadata": {},
   "outputs": [],
   "source": [
    "mmap = ppl.v(\"accumulator\").construct_map()"
   ]
  },
  {
   "cell_type": "code",
   "execution_count": null,
   "id": "2f1d8376-6b1b-4647-ad63-258337abf5da",
   "metadata": {},
   "outputs": [],
   "source": [
    "mmap.plot(interactive=True, plot_component=\"raw\")"
   ]
  },
  {
   "cell_type": "markdown",
   "id": "c2232408-579a-48e1-b631-04d0ddbc517c",
   "metadata": {},
   "source": [
    "В этом случае вам придется указать компоненту батча, которую хотите нарисовать. Батч будет взят из того же самого датасета и прогонится по пайплайну до момента вызова `calculate_metric`. И да, много компонент тоже можно:"
   ]
  },
  {
   "cell_type": "code",
   "execution_count": null,
   "id": "5a93ae87-3643-4b1c-8a7c-ede0ffe741d6",
   "metadata": {},
   "outputs": [],
   "source": [
    "mmap.plot(interactive=True, plot_component=[\"raw\", \"sorted\"])"
   ]
  },
  {
   "cell_type": "markdown",
   "id": "d8b24579-3768-4f6d-a3c8-89fe23ccd5c2",
   "metadata": {},
   "source": [
    "## Что еще интерактивненького появилось?"
   ]
  },
  {
   "cell_type": "markdown",
   "id": "c9e425b0-7996-445d-bb03-cede599ffd04",
   "metadata": {},
   "source": [
    "### Отрисоква геометрии съемки: "
   ]
  },
  {
   "cell_type": "code",
   "execution_count": null,
   "id": "f9ea44aa-a8ac-478c-8194-42291cfbde21",
   "metadata": {},
   "outputs": [],
   "source": [
    "sur.plot_geometry()"
   ]
  },
  {
   "cell_type": "markdown",
   "id": "33cfd48f-b4e4-4bbe-86d3-3d0f63c9820f",
   "metadata": {},
   "source": [
    "В левом верхнем углу - переключалка с шотов на ресиверы."
   ]
  },
  {
   "cell_type": "markdown",
   "id": "9a5c3184-d610-480e-8453-9452fb2fc8ce",
   "metadata": {},
   "source": [
    "### Интерактивное спрямление сейсмограммы с заданной скоростью:"
   ]
  },
  {
   "cell_type": "code",
   "execution_count": null,
   "id": "581c4c26-8ebe-4bb2-8fb4-a1ce7218eb91",
   "metadata": {},
   "outputs": [],
   "source": [
    "sur.sample_gather().sort(by=\"offset\").plot_nmo_correction()"
   ]
  },
  {
   "cell_type": "markdown",
   "id": "ec4f0e9e-7265-45ee-8188-bffa797fd123",
   "metadata": {},
   "source": [
    "В левом верхнем углу - переключалка на вид исходного газера."
   ]
  },
  {
   "cell_type": "markdown",
   "id": "951641f3-72f3-4e69-bd21-059b87f2bde0",
   "metadata": {},
   "source": [
    "### Постоение карты атрибута трасс:"
   ]
  },
  {
   "cell_type": "code",
   "execution_count": null,
   "id": "7dea8945-b6cc-4eda-b24a-14a90179f0ec",
   "metadata": {},
   "outputs": [],
   "source": [
    "max_offset_map = sur.construct_attribute_map(\"offset\", by=\"receiver\", agg=\"max\")\n",
    "max_offset_map.plot(interactive=True, sort_by=\"offset\")"
   ]
  },
  {
   "cell_type": "markdown",
   "id": "c557a56f-c037-4ba3-a45c-d944c873ad40",
   "metadata": {},
   "source": [
    "Это скорее общий интерфейс получения карты, для Дани сделаем отдельные алиасы под то, что ему нужно."
   ]
  },
  {
   "cell_type": "markdown",
   "id": "1f1d4e66-14d6-4ca8-8ede-b106e72b9cac",
   "metadata": {},
   "source": [
    "### Интерактивные семблансы:"
   ]
  },
  {
   "cell_type": "markdown",
   "id": "ffec984e-8aa0-476a-a3d2-b71e29b1d01f",
   "metadata": {},
   "source": [
    "Подсуньте сюда любой сегвай по бинам:"
   ]
  },
  {
   "cell_type": "code",
   "execution_count": null,
   "id": "3648cd0f-fe97-42b9-94d1-26bb98b4351d",
   "metadata": {},
   "outputs": [],
   "source": [
    "%%time\n",
    "header_index = \"INLINE_3D\", \"CROSSLINE_3D\"\n",
    "header_cols = [\"INLINE_3D\", \"CROSSLINE_3D\", \"offset\", \"SourceX\", \"SourceY\", \"GroupX\", \"GroupY\", \"CDP_X\", \"CDP_Y\"]\n",
    "semb_sur = Survey(\"./CDP_4_VA.sgy\", header_index=header_index, header_cols=header_cols, name=\"raw\")"
   ]
  },
  {
   "cell_type": "code",
   "execution_count": null,
   "id": "63fa37a1-da76-43a1-a619-4091b2e0d433",
   "metadata": {},
   "outputs": [],
   "source": [
    "%%time\n",
    "gather = semb_sur.sample_gather().sort(by=\"offset\")\n",
    "semblance = gather.calculate_semblance(velocities=np.arange(1400, 5500, 100))\n",
    "stacking_velocity = semblance.calculate_stacking_velocity()\n",
    "residual_semblance = gather.calculate_residual_semblance(stacking_velocity)"
   ]
  },
  {
   "cell_type": "code",
   "execution_count": null,
   "id": "0661b3f8-5cef-4473-9c3c-db2d7dce38cf",
   "metadata": {},
   "outputs": [],
   "source": [
    "semblance.plot(stacking_velocity, interactive=True)"
   ]
  },
  {
   "cell_type": "markdown",
   "id": "62e86af0-e68b-4e16-b3d6-bede773fd3fe",
   "metadata": {},
   "source": [
    "Толщина годографа соответствует размеру окна при подсчете сембланса. А кнопка в правом верхнем углу - переключение в спрямленный вид."
   ]
  },
  {
   "cell_type": "code",
   "execution_count": null,
   "id": "85e2c8a3-8b34-4c31-af46-9bd5bb9e5c04",
   "metadata": {},
   "outputs": [],
   "source": [
    "residual_semblance.plot(interactive=True)"
   ]
  }
 ],
 "metadata": {
  "kernelspec": {
   "display_name": "Python 3 (ipykernel)",
   "language": "python",
   "name": "python3"
  },
  "language_info": {
   "codemirror_mode": {
    "name": "ipython",
    "version": 3
   },
   "file_extension": ".py",
   "mimetype": "text/x-python",
   "name": "python",
   "nbconvert_exporter": "python",
   "pygments_lexer": "ipython3",
   "version": "3.9.7"
  }
 },
 "nbformat": 4,
 "nbformat_minor": 5
}
